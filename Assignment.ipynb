{
 "cells": [
  {
   "cell_type": "markdown",
   "metadata": {},
   "source": [
    "Imports\n",
    "-----"
   ]
  },
  {
   "cell_type": "code",
   "execution_count": 68,
   "metadata": {},
   "outputs": [],
   "source": [
    "# Import \n",
    "\n",
    "import numpy as np\n",
    "import matplotlib.pyplot as plt\n",
    "from degree_freedom_queen import *\n",
    "from degree_freedom_king1 import *\n",
    "from degree_freedom_king2 import *\n",
    "from generate_game import *\n",
    "from Chess_env import *\n",
    "from tqdm import tqdm \n",
    "\n",
    "import matplotlib.pyplot as plt\n",
    "\n",
    "import random\n",
    "\n",
    "\n",
    "\n",
    "## Initialise the network and set the board size \n",
    "size_board = 4 \n",
    "env=Chess_Env(size_board)"
   ]
  },
  {
   "cell_type": "markdown",
   "metadata": {},
   "source": [
    "Neural Network implementation\n",
    "========================================================"
   ]
  },
  {
   "cell_type": "code",
   "execution_count": 69,
   "metadata": {},
   "outputs": [],
   "source": [
    "def network(X, Theta):\n",
    "  W1, W2 = Theta\n",
    "\n",
    "  # compute activation\n",
    "  A = np.matmul(W1, X)\n",
    "  # compute hidden unit output\n",
    "  H = np.tanh(A)\n",
    "  H[0] = 1\n",
    "  # compute network output\n",
    "  Y = np.dot(W2, H)\n",
    "  return Y, H\n",
    "\n",
    "def gradient(X, T, Y, H, Theta):\n",
    "  W1, W2 = Theta\n",
    "  g1 = np.dot((np.dot(W2.T,(Y-T))*(1-H**2)),X.T)\n",
    "  g2 = (np.dot((Y-T),H.T))\n",
    "  return g1, g2\n",
    "\n",
    "def gradient_descent(X, y, h, T, Theta, eta):\n",
    "  (W1, W2) = Theta\n",
    "  (g1, g2) = gradient(X, T, y, h, (W1, W2))\n",
    "  W1 += -eta * g1 \n",
    "  W2 += -eta * g2\n",
    "  return W1, W2  "
   ]
  },
  {
   "cell_type": "markdown",
   "metadata": {},
   "source": [
    "## The Environment\n",
    "\n",
    "You can find the environment in the file Chess_env, which contains the class Chess_env. To define an object, you need to provide the board size considered as input. In our example, size_board=4. \n",
    "Chess_env is composed by the following methods:\n",
    "\n",
    "1. Initialise_game. The method initialises an episode by placing the three pieces considered (Agent's king and queen, enemy's king) in the chess board. The outputs of the method are described below in order.\n",
    "\n",
    "     S $\\;$ A matrix representing the board locations filled with 4 numbers: 0, no piece in that position; 1, location of the \n",
    "     agent's king; 2 location of the queen; 3 location of the enemy king.\n",
    "     \n",
    "     X $\\;$ The features, that is the input to the neural network. See the assignment for more information regarding the            definition of the features adopted. To personalise this, go into the Features method of the class Chess_env() and change        accordingly.\n",
    "     \n",
    "     allowed_a $\\;$ The allowed actions that the agent can make. The agent is moving a king, with a total number of 8                possible actions, and a queen, with a total number of $(board_{size}-1)\\times 8$ actions. The total number of possible actions correspond      to the sum of the two, but not all actions are allowed in a given position (movements to locations outside the borders or      against chess rules). Thus, the variable allowed_a is a vector that is one (zero) for an action that the agent can (can't)      make. Be careful, apply the policy considered on the actions that are allowed only.\n",
    "     \n",
    "\n",
    "2. OneStep. The method performs a one step update of the system. Given as input the action selected by the agent, it updates the chess board by performing that action and the response of the enemy king (which is a random allowed action in the settings considered). The first three outputs are the same as for the Initialise_game method, but the variables are computed for the position reached after the update of the system. The fourth and fifth outputs are:\n",
    "\n",
    "     R $\\;$ The reward. To change this, look at the OneStep method of the class where the rewards are set.\n",
    "     \n",
    "     Done $\\;$ A variable that is 1 if the episode has ended (checkmate or draw).\n",
    "     \n",
    "     \n",
    "3. Features. Given the chessboard position, the method computes the features.\n",
    "\n",
    "This information and a quick analysis of the class should be all you need to get going. The other functions that the class exploits are uncommented and constitute an example on how not to write a python code. You can take a look at them if you want, but it is not necessary.\n",
    "\n",
    "\n",
    "\n",
    "\n"
   ]
  },
  {
   "cell_type": "markdown",
   "metadata": {},
   "source": [
    "Neural Network Initialisation (Policy network)\n",
    "----------------------------"
   ]
  },
  {
   "cell_type": "code",
   "execution_count": 70,
   "metadata": {},
   "outputs": [],
   "source": [
    "# INITIALISE THE PARAMETERS OF YOUR NEURAL NETWORK AND...\n",
    "\n",
    "S,X,allowed_a=env.Initialise_game()\n",
    "\n",
    "#N_a=np.shape(allowed_a)[0]   # TOTAL NUMBER OF POSSIBLE ACTIONS\n",
    "a,_=np.where(allowed_a==1)\n",
    "\n",
    "X = np.insert(X,0,1).reshape(-1,1) # adding bias term\n",
    "\n",
    "N_a = len(allowed_a)   ## Number of allowed actions. Will also include the actions that are not possible considering other pieces. \n",
    "N_in = np.shape(X)[0]    ## INPUT SIZE\n",
    "N_h = 200                ## NUMBER OF HIDDEN NODES"
   ]
  },
  {
   "cell_type": "markdown",
   "metadata": {},
   "source": [
    "Neural Network declarations\n",
    "-------------"
   ]
  },
  {
   "cell_type": "code",
   "execution_count": 71,
   "metadata": {},
   "outputs": [],
   "source": [
    "np.random.seed(91) # for reproducability of the code\n",
    "\n",
    "K = N_h #number of hidden nodes\n",
    "D = len(X)\n",
    "O = N_a # number of outputs equal to the number of allowed actions.\n",
    "\n",
    "W1 = np.random.uniform(-1/np.sqrt(D), 1/np.sqrt(D), (K,D)) #defining the initial weights\n",
    "W2 = np.random.uniform(-1/np.sqrt(D), 1/np.sqrt(D), (O,K)) #defining the initial weights\n",
    "Theta = [W1, W2] #combined to be used as an input to the neural network"
   ]
  },
  {
   "cell_type": "markdown",
   "metadata": {},
   "source": [
    "Target Network(Clone of the Policy Network)\n",
    "-----"
   ]
  },
  {
   "cell_type": "code",
   "execution_count": 72,
   "metadata": {},
   "outputs": [],
   "source": [
    "#Clone the Neural network to find optimal q value \n",
    "\n",
    "W1_clone = np.copy(W1) #\n",
    "W2_clone = np.copy(W2) \n",
    "Theta_clone = [W1_clone, W2_clone]"
   ]
  },
  {
   "cell_type": "markdown",
   "metadata": {},
   "source": [
    "Hyperparameters\n",
    "-----"
   ]
  },
  {
   "cell_type": "code",
   "execution_count": 73,
   "metadata": {},
   "outputs": [],
   "source": [
    "# HYPERPARAMETERS SUGGESTED (FOR A GRID SIZE OF 4)\n",
    "\n",
    "epsilon_0 = 0.2     # STARTING VALUE OF EPSILON FOR THE EPSILON-GREEDY POLICY\n",
    "beta = 0.05      # THE PARAMETER SETS HOW QUICKLY THE VALUE OF EPSILON IS DECAYING (SEE epsilon_f BELOW)\n",
    "gamma = 0.85       # THE DISCOUNT FACTOR\n",
    "eta = 0.0035        # THE LEARNING RATE\n",
    "N_episodes =  50000 # THE NUMBER OF GAMES TO BE PLAYED "
   ]
  },
  {
   "cell_type": "markdown",
   "metadata": {},
   "source": [
    "Defining arrays to be used for plotting\n",
    "-----"
   ]
  },
  {
   "cell_type": "code",
   "execution_count": 74,
   "metadata": {},
   "outputs": [],
   "source": [
    "\n",
    "# SAVING VARIABLES\n",
    "R_save = np.zeros([N_episodes, 1])\n",
    "N_moves_save = np.zeros([N_episodes, 1])\n",
    "time_per_episode = np.zeros([N_episodes, 1])\n",
    "win_or_draw = np.empty(N_episodes,dtype=\"object\")"
   ]
  },
  {
   "cell_type": "markdown",
   "metadata": {},
   "source": [
    "#  Algorithm 1 --> SARSA"
   ]
  },
  {
   "cell_type": "markdown",
   "metadata": {},
   "source": [
    "Training block SARSA\n",
    "-----"
   ]
  },
  {
   "cell_type": "code",
   "execution_count": 75,
   "metadata": {},
   "outputs": [
    {
     "name": "stderr",
     "output_type": "stream",
     "text": [
      "100%|██████████| 50000/50000 [02:26<00:00, 341.61it/s]\n"
     ]
    }
   ],
   "source": [
    "import time\n",
    "clone_update = 0 #counter that is used to clone the weights of the Policy network after certain episodes, to be then used for training network. \n",
    "for n in tqdm(range(N_episodes)):\n",
    "    start_time = time.time() #get the time taken to complete each episode\n",
    "    epsilon_f = epsilon_0 / (1 + beta * n)   ## DECAYING EPSILON\n",
    "    Done=0                                   ## SET DONE TO ZERO (BEGINNING OF THE EPISODE)\n",
    "    Total_rewards = 0                        ## Keeps track of the total rewards per episode \n",
    "    i = 1                                    ## COUNTER FOR NUMBER OF ACTIONS\n",
    "\n",
    "    S, X, allowed_a=env.Initialise_game()      ## INITIALISE GAME\n",
    "\n",
    "    X = np.insert(X,0,1).reshape(-1,1) # adding bias term\n",
    "\n",
    "    while Done==0:                           ## The game has neither drawn nor been won\n",
    "\n",
    "        q_values, H = network(X,Theta) #through the forward propagation, get the qvalues \n",
    "        a,_=np.where(allowed_a==1) #get the indexes between 0 and 31 to show which of these actions are allowed\n",
    "\n",
    "        q_values_epsilon = np.copy(q_values) #store the received qvalues separately which will be used for the greedy epsilon selection \n",
    "        q_values_epsilon[allowed_a==0] = -9999999 # the qvalues on the indices/actions which are not allowed has to be set to minimum value. \n",
    "        \n",
    "        # EXPLORATION VS EXPLOITATION\n",
    "        if np.random.random() < epsilon_f :\n",
    "            a_agent = np.random.permutation(a)[0] #randomly takes an action from the list of available actions \n",
    "            \n",
    "        else:\n",
    "            a_agent = np.argmax(q_values_epsilon) #takes the action which corresponds to the value of the highest qvalue \n",
    "    \n",
    "        S_next,X_next,allowed_a_next,R,Done=env.OneStep(a_agent) #Now since we have the action that we want to take, we will pass it to the OneStep function to get the next state, Reward, the next feature vector and the vector showing the possible actions that can be taken\n",
    "        X_next = np.insert(X_next,0,1).reshape(-1,1) # adding bias term\n",
    "        \n",
    "        ## THE EPISODE HAS ENDED\n",
    "        if Done==1:\n",
    "            #print('done')\n",
    "            if R==5:\n",
    "                flag = 'Win'\n",
    "            else:\n",
    "                flag = 'Draw'    \n",
    " \n",
    "            target_q_value =  R + (np.max(network(np.zeros_like(X), Theta_clone)[0]))\n",
    "            target_vector = np.copy(q_values) \n",
    "            target_vector[a_agent] = target_q_value #using the one-hot encoded current state, and the target value converted as a vector to train the model on a single step.\n",
    "\n",
    "            W1, W2 = gradient_descent(X, q_values, H, target_vector, Theta, eta = eta) #run gradient descent \n",
    "            Theta = [W1, W2]\n",
    "\n",
    "        # IF THE EPISODE IS NOT OVER...\n",
    "        else:\n",
    "            ## ONLY TO PUT SUMETHING\n",
    "            q_value_next, h_next = network(X_next,Theta_clone) #using the train network (clone of the policy network), to find the future value of q so that we can chose the best action in the future state which will give us the best reward\n",
    "            a_next,_=np.where(allowed_a_next==1) #get the indexes between 0 and 31 to show which of these actions are allowed\n",
    "            q_value_epsilon_next = np.copy(q_value_next) #store the received qvalues separately which will be used for the greedy epsilon selection \n",
    "            q_value_epsilon_next[allowed_a_next==0] = -9999999\n",
    "            #a_agent_next = np.max(q_value_next) # optimal future q value\n",
    "                    # EXPLORATION VS EXPLOITATION\n",
    "            if np.random.random() < epsilon_f :\n",
    "                a_agent_next = np.random.permutation(a_next)[0] #randomly takes an action from the list of available actions \n",
    "                \n",
    "            else:\n",
    "                a_agent_next = np.argmax(q_value_epsilon_next) #takes the action which corresponds to the value of the highest qvalue \n",
    "\n",
    "            target_q_value = (gamma * q_value_epsilon_next[a_agent_next]) + R  # get the target value based on the Bellman equation using the model prediction for the next state\n",
    "            target_vector = np.copy(q_values)\n",
    "            target_vector[a_agent] = target_q_value # use the one-hot encoded current state, and the target value converted as a vector to train the model on a single step.\n",
    "\n",
    "            W1, W2 = gradient_descent(X, q_values, H, target_vector, Theta, eta = eta) # run gradient descent to get the updated weights\n",
    "            Theta = [W1, W2] \n",
    "           \n",
    "            # NEXT STATE AND CO. BECOME ACTUAL STATE...     \n",
    "            S=np.copy(S_next) # the next state now becomes the current state \n",
    "            X=np.copy(X_next)\n",
    "            allowed_a=np.copy(allowed_a_next)\n",
    "            \n",
    "        i += 1  # UPDATE COUNTER FOR NUMBER OF ACTIONS\n",
    "        Total_rewards += R #get total rewards collected after the game/episode ends(either drawn or won)\n",
    "            #print('i:',i)\n",
    "\n",
    "    #print('Total_rewards for the episode:',Total_rewards)  \n",
    "    #print('Total steps for the episode:',i)   \n",
    "\n",
    "    R_save[n]=np.copy(Total_rewards) #save total rewards for this episode \n",
    "    N_moves_save[n]=np.copy(i) # save total number of moves used for this episode\n",
    "    win_or_draw[n] = np.copy(flag) #saves if this episode was won or drawn\n",
    "\n",
    "    # This parts increments the value of the counter and will clone the weights of the theta after 50 episodes have been reached\n",
    "    clone_update+=1\n",
    "    if clone_update==50:\n",
    "        Theta_clone = Theta\n",
    "        clone_update = 0\n",
    "\n",
    "    #time_per_episode[n] =   time.time() - start_time\n",
    "    time_per_episode[n] =   time.time()\n"
   ]
  },
  {
   "cell_type": "markdown",
   "metadata": {},
   "source": [
    "Plots SARSA\n",
    "-----"
   ]
  },
  {
   "cell_type": "code",
   "execution_count": 76,
   "metadata": {},
   "outputs": [
    {
     "data": {
      "image/png": "[encoded data removed]",
      "text/plain": [
       "<Figure size 432x288 with 1 Axes>"
      ]
     },
     "metadata": {
      "needs_background": "light"
     },
     "output_type": "display_data"
    },
    {
     "data": {
      "image/png": "[encoded data removed]",
      "text/plain": [
       "<Figure size 432x288 with 1 Axes>"
      ]
     },
     "metadata": {
      "needs_background": "light"
     },
     "output_type": "display_data"
    }
   ],
   "source": [
    "episodes_prog = np.arange(0,N_episodes,1)\n",
    "\n",
    "plt.plot(episodes_prog, R_save) # Create line plot with yvals against xvals\n",
    "plt.title('Rewards per episode VS Episodes (SARSA)')\n",
    "plt.xlabel('Episodes')\n",
    "plt.ylabel('Rewards per episode')\n",
    "plt.show()\n",
    "\n",
    "plt.plot(episodes_prog, N_moves_save) # Create line plot with yvals against xvals\n",
    "plt.title('Number of moves per episode VS Episodes (SARSA)')\n",
    "plt.xlabel('Episodes')\n",
    "plt.ylabel('Number of moves per episode')\n",
    "plt.show()\n",
    "\n"
   ]
  },
  {
   "cell_type": "markdown",
   "metadata": {},
   "source": [
    "Results SARSA\n",
    "------"
   ]
  },
  {
   "cell_type": "code",
   "execution_count": 84,
   "metadata": {},
   "outputs": [
    {
     "name": "stdout",
     "output_type": "stream",
     "text": [
      "Random_Agent, Average reward: 3.5538 Number of steps:  3.4102\n",
      "[[array('Win', dtype='<U3') 100]]\n"
     ]
    }
   ],
   "source": [
    "print('Random_Agent, Average reward:',np.mean(R_save[-10000:]),'Number of steps: ',np.mean(N_moves_save[-10000:])) #gets the average reward and the average number of steps taken for the last 100 episodes\n",
    "unique, counts = np.unique(win_or_draw[-100:], return_counts=True)\n",
    "print (np.asarray((unique, counts)).T) #gets the number of time our algorithm won or draws \n"
   ]
  },
  {
   "cell_type": "markdown",
   "metadata": {},
   "source": [
    "#  Algorithm 2 --> Q Learning "
   ]
  },
  {
   "cell_type": "markdown",
   "metadata": {},
   "source": [
    "Initialisations for Q Learning\n",
    "----"
   ]
  },
  {
   "cell_type": "code",
   "execution_count": 86,
   "metadata": {},
   "outputs": [],
   "source": [
    "np.random.seed(92) # for reproducability of the code\n",
    "\n",
    "# INITIALISE THE PARAMETERS OF YOUR NEURAL NETWORK AND...\n",
    "\n",
    "S,X,allowed_a=env.Initialise_game()\n",
    "\n",
    "#N_a=np.shape(allowed_a)[0]   # TOTAL NUMBER OF POSSIBLE ACTIONS\n",
    "a,_=np.where(allowed_a==1)\n",
    "\n",
    "X = np.insert(X,0,1).reshape(-1,1) # adding bias term\n",
    "\n",
    "N_a = len(allowed_a)   ## Number of allowed actions. Will also include the actions that are not possible considering other pieces. \n",
    "N_in = np.shape(X)[0]    ## INPUT SIZE\n",
    "N_h = 200                ## NUMBER OF HIDDEN NODES\n",
    "\n",
    "#setting up Neural network essentials\n",
    "\n",
    "K = N_h #number of hidden nodes\n",
    "D = len(X)\n",
    "O = N_a # number of outputs equal to the number of allowed actions.\n",
    "\n",
    "W1 = np.random.uniform(-1/np.sqrt(D), 1/np.sqrt(D), (K,D)) #defining the initial weights\n",
    "W2 = np.random.uniform(-1/np.sqrt(D), 1/np.sqrt(D), (O,K)) #defining the initial weights\n",
    "Theta = [W1, W2] #combined to be used as an input to the neural network\n",
    "#Clone the Neural network to find optimal q value \n",
    "\n",
    "W1_clone = np.copy(W1) #\n",
    "W2_clone = np.copy(W2) \n",
    "Theta_clone = [W1_clone, W2_clone]\n",
    "\n",
    "\n",
    "# HYPERPARAMETERS SUGGESTED (FOR A GRID SIZE OF 4)\n",
    "\n",
    "epsilon_0 = 0.2     # STARTING VALUE OF EPSILON FOR THE EPSILON-GREEDY POLICY\n",
    "beta = 0.05      # THE PARAMETER SETS HOW QUICKLY THE VALUE OF EPSILON IS DECAYING (SEE epsilon_f BELOW)\n",
    "gamma = 0.85        # THE DISCOUNT FACTOR\n",
    "eta = 0.0035        # THE LEARNING RATE\n",
    "N_episodes =  50000 # THE NUMBER OF GAMES TO BE PLAYED \n",
    "\n",
    "# SAVING VARIABLES\n",
    "R_save = np.zeros([N_episodes, 1])\n",
    "N_moves_save = np.zeros([N_episodes, 1])\n",
    "time_per_episode = np.zeros([N_episodes, 1])\n",
    "win_or_draw = np.empty(N_episodes,dtype=\"object\")"
   ]
  },
  {
   "cell_type": "markdown",
   "metadata": {},
   "source": [
    "Training block Q Learning\n",
    "----"
   ]
  },
  {
   "cell_type": "code",
   "execution_count": 87,
   "metadata": {},
   "outputs": [
    {
     "name": "stderr",
     "output_type": "stream",
     "text": [
      "100%|██████████| 50000/50000 [02:32<00:00, 328.80it/s]\n"
     ]
    }
   ],
   "source": [
    "import time\n",
    "clone_update = 0 #counter that is used to clone the weights of the Policy network after certain episodes, to be then used for training network. \n",
    "for n in tqdm(range(N_episodes)):\n",
    "    start_time = time.time() #get the time taken to complete each episode\n",
    "    epsilon_f = epsilon_0 / (1 + beta * n)   ## DECAYING EPSILON\n",
    "    Done=0                                   ## SET DONE TO ZERO (BEGINNING OF THE EPISODE)\n",
    "    Total_rewards = 0                        ## Keeps track of the total rewards per episode \n",
    "    i = 1                                    ## COUNTER FOR NUMBER OF ACTIONS\n",
    "\n",
    "    S, X, allowed_a=env.Initialise_game()      ## INITIALISE GAME\n",
    "\n",
    "    X = np.insert(X,0,1).reshape(-1,1) # adding bias term\n",
    "\n",
    "    while Done==0:                           ## The game has neither drawn nor been won\n",
    "\n",
    "        q_values, H = network(X,Theta) #through the forward propagation, get the qvalues \n",
    "        a,_=np.where(allowed_a==1) #get the indexes between 0 and 31 to show which of these actions are allowed\n",
    "\n",
    "        q_values_epsilon = np.copy(q_values) #store the received qvalues separately which will be used for the greedy epsilon selection \n",
    "        q_values_epsilon[allowed_a==0] = -9999999 # the qvalues on the indices/actions which are not allowed has to be set to minimum value. \n",
    "        \n",
    "        # EXPLORATION VS EXPLOITATION\n",
    "        if np.random.random() < epsilon_f :\n",
    "            a_agent = np.random.permutation(a)[0] #randomly takes an action from the list of available actions \n",
    "            \n",
    "        else:\n",
    "            a_agent = np.argmax(q_values_epsilon) #takes the action which corresponds to the value of the highest qvalue \n",
    "    \n",
    "        S_next,X_next,allowed_a_next,R,Done=env.OneStep(a_agent) #Now since we have the action that we want to take, we will pass it to the OneStep function to get the next state, Reward, the next feature vector and the vector showing the possible actions that can be taken\n",
    "        X_next = np.insert(X_next,0,1).reshape(-1,1) # adding bias term\n",
    "        \n",
    "        ## THE EPISODE HAS ENDED\n",
    "        if Done==1:\n",
    "            #print('done')\n",
    "            if R==5:\n",
    "                flag = 'Win'\n",
    "            else:\n",
    "                flag = 'Draw'    \n",
    " \n",
    "            target_q_value =  R + (np.max(network(np.zeros_like(X), Theta_clone)[0]))\n",
    "            target_vector = np.copy(q_values) \n",
    "            target_vector[a_agent] = target_q_value #using the one-hot encoded current state, and the target value converted as a vector to train the model on a single step.\n",
    "\n",
    "            W1, W2 = gradient_descent(X, q_values, H, target_vector, Theta, eta = eta) #run gradient descent \n",
    "            Theta = [W1, W2]\n",
    "\n",
    "        # IF THE EPISODE IS NOT OVER...\n",
    "        else:\n",
    "            ## ONLY TO PUT SUMETHING\n",
    "            q_value_next, h_next = network(X_next,Theta_clone) #using the train network (clone of the policy network), to find the future value of q so that we can chose the best action in the future state which will give us the best reward\n",
    "            q_value_next[allowed_a_next==0] = -9999999\n",
    "            a_agent_next = np.max(q_value_next) # optimal future q value\n",
    "\n",
    "            target_q_value = (gamma * a_agent_next) + R  # get the target value based on the Bellman equation using the model prediction for the next state\n",
    "            target_vector = np.copy(q_values)\n",
    "            target_vector[a_agent] = target_q_value # use the one-hot encoded current state, and the target value converted as a vector to train the model on a single step.\n",
    "\n",
    "            W1, W2 = gradient_descent(X, q_values, H, target_vector, Theta, eta = eta) # run gradient descent to get the updated weights\n",
    "            Theta = [W1, W2] \n",
    "           \n",
    "            # NEXT STATE AND CO. BECOME ACTUAL STATE...     \n",
    "            S=np.copy(S_next) # the next state now becomes the current state \n",
    "            X=np.copy(X_next)\n",
    "            allowed_a=np.copy(allowed_a_next)\n",
    "            \n",
    "        i += 1  # UPDATE COUNTER FOR NUMBER OF ACTIONS\n",
    "        Total_rewards += R #get total rewards collected after the game/episode ends(either drawn or won)\n",
    "            #print('i:',i)\n",
    "\n",
    "    #print('Total_rewards for the episode:',Total_rewards)  \n",
    "    #print('Total steps for the episode:',i)   \n",
    "\n",
    "    R_save[n]=np.copy(Total_rewards) #save total rewards for this episode \n",
    "    N_moves_save[n]=np.copy(i) # save total number of moves used for this episode\n",
    "    win_or_draw[n] = np.copy(flag) #saves if this episode was won or drawn\n",
    "\n",
    "    # This parts increments the value of the counter and will clone the weights of the theta after 50 episodes have been reached\n",
    "    clone_update+=1\n",
    "    if clone_update==50:\n",
    "        Theta_clone = Theta\n",
    "        clone_update = 0\n",
    "\n",
    "    #time_per_episode[n] =   time.time() - start_time\n",
    "    time_per_episode[n] =   time.time()\n"
   ]
  },
  {
   "cell_type": "markdown",
   "metadata": {},
   "source": [
    "Plots Q Learning\n",
    "-----"
   ]
  },
  {
   "cell_type": "code",
   "execution_count": 88,
   "metadata": {},
   "outputs": [
    {
     "data": {
      "image/png": "[encoded data removed]",
      "text/plain": [
       "<Figure size 432x288 with 1 Axes>"
      ]
     },
     "metadata": {
      "needs_background": "light"
     },
     "output_type": "display_data"
    },
    {
     "data": {
      "image/png": "[encoded data removed]",
      "text/plain": [
       "<Figure size 432x288 with 1 Axes>"
      ]
     },
     "metadata": {
      "needs_background": "light"
     },
     "output_type": "display_data"
    }
   ],
   "source": [
    "episodes_prog = np.arange(0,N_episodes,1)\n",
    "\n",
    "plt.plot(episodes_prog, R_save) # Create line plot with yvals against xvals\n",
    "plt.title('Rewards per episode VS Episodes (Q Learning)')\n",
    "plt.xlabel('Episodes')\n",
    "plt.ylabel('Rewards per episode')\n",
    "plt.show()\n",
    "\n",
    "plt.plot(episodes_prog, N_moves_save) # Create line plot with yvals against xvals\n",
    "plt.title('Number of moves per episode VS Episodes (Q Learning)')\n",
    "plt.xlabel('Episodes')\n",
    "plt.ylabel('Number of moves per episode')\n",
    "plt.show()\n"
   ]
  },
  {
   "cell_type": "markdown",
   "metadata": {},
   "source": [
    "Results Q Learning\n",
    "------"
   ]
  },
  {
   "cell_type": "code",
   "execution_count": 90,
   "metadata": {},
   "outputs": [
    {
     "name": "stdout",
     "output_type": "stream",
     "text": [
      "Random_Agent, Average reward: 3.57815 Number of steps:  3.39735\n",
      "[[array('Win', dtype='<U3') 100]]\n"
     ]
    }
   ],
   "source": [
    "print('Random_Agent, Average reward:',np.mean(R_save[-20000:]),'Number of steps: ',np.mean(N_moves_save[-20000:])) #gets the average reward and the average number of steps taken for the last 100 episodes\n",
    "unique, counts = np.unique(win_or_draw[-100:], return_counts=True)\n",
    "print (np.asarray((unique, counts)).T) #gets the number of time our algorithm won or draws \n"
   ]
  }
 ],
 "metadata": {
  "interpreter": {
   "hash": "74b2e6643c49bceed9c418980a8c627a58891ac46f83d9bb12da4716999b3414"
  },
  "kernelspec": {
   "display_name": "Python 3.9.10 64-bit ('RL_assignment': conda)",
   "name": "python3"
  },
  "language_info": {
   "codemirror_mode": {
    "name": "ipython",
    "version": 3
   },
   "file_extension": ".py",
   "mimetype": "text/x-python",
   "name": "python",
   "nbconvert_exporter": "python",
   "pygments_lexer": "ipython3",
   "version": "3.9.10"
  }
 },
 "nbformat": 4,
 "nbformat_minor": 5
}